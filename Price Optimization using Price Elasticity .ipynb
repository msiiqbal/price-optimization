{
 "cells": [
  {
   "cell_type": "code",
   "execution_count": 1,
   "id": "43246792",
   "metadata": {},
   "outputs": [],
   "source": [
    "# import required packages\n",
    "import pandas as pd\n",
    "import numpy as np\n",
    "import matplotlib.pyplot as plt\n",
    "import seaborn as sns\n",
    "from scipy.optimize import minimize\n",
    "from statsmodels.formula.api import ols\n",
    "import plotly.express as px\n",
    "import plotly.graph_objects as go\n",
    "import warnings\n",
    "warnings.filterwarnings('ignore')"
   ]
  },
  {
   "cell_type": "code",
   "execution_count": 2,
   "id": "812af2ec",
   "metadata": {},
   "outputs": [],
   "source": [
    "# loading data set\n",
    "data = pd.read_csv('Vendor_Data.csv')"
   ]
  },
  {
   "cell_type": "code",
   "execution_count": 3,
   "id": "cbc9d884",
   "metadata": {
    "scrolled": false
   },
   "outputs": [
    {
     "data": {
      "text/html": [
       "<div>\n",
       "<style scoped>\n",
       "    .dataframe tbody tr th:only-of-type {\n",
       "        vertical-align: middle;\n",
       "    }\n",
       "\n",
       "    .dataframe tbody tr th {\n",
       "        vertical-align: top;\n",
       "    }\n",
       "\n",
       "    .dataframe thead th {\n",
       "        text-align: right;\n",
       "    }\n",
       "</style>\n",
       "<table border=\"1\" class=\"dataframe\">\n",
       "  <thead>\n",
       "    <tr style=\"text-align: right;\">\n",
       "      <th></th>\n",
       "      <th>Products</th>\n",
       "      <th>Avg_Price_per_unit</th>\n",
       "      <th>Cost_per_unit</th>\n",
       "      <th>Average_Profit_per_unit</th>\n",
       "      <th>Average_units_sold</th>\n",
       "      <th>Incremental_acquisition</th>\n",
       "      <th>Increase_sale_volume</th>\n",
       "    </tr>\n",
       "  </thead>\n",
       "  <tbody>\n",
       "    <tr>\n",
       "      <th>0</th>\n",
       "      <td>Product 1</td>\n",
       "      <td>95</td>\n",
       "      <td>92</td>\n",
       "      <td>2.8</td>\n",
       "      <td>0.6</td>\n",
       "      <td>0.00323</td>\n",
       "      <td>0.08906</td>\n",
       "    </tr>\n",
       "    <tr>\n",
       "      <th>1</th>\n",
       "      <td>Product 2</td>\n",
       "      <td>37</td>\n",
       "      <td>27</td>\n",
       "      <td>10.0</td>\n",
       "      <td>0.8</td>\n",
       "      <td>0.00106</td>\n",
       "      <td>0.01991</td>\n",
       "    </tr>\n",
       "    <tr>\n",
       "      <th>2</th>\n",
       "      <td>Product 3</td>\n",
       "      <td>34</td>\n",
       "      <td>26</td>\n",
       "      <td>8.5</td>\n",
       "      <td>0.6</td>\n",
       "      <td>0.00328</td>\n",
       "      <td>0.03778</td>\n",
       "    </tr>\n",
       "    <tr>\n",
       "      <th>3</th>\n",
       "      <td>Product 4</td>\n",
       "      <td>32</td>\n",
       "      <td>30</td>\n",
       "      <td>2.8</td>\n",
       "      <td>0.7</td>\n",
       "      <td>0.00000</td>\n",
       "      <td>0.08562</td>\n",
       "    </tr>\n",
       "    <tr>\n",
       "      <th>4</th>\n",
       "      <td>Product 5</td>\n",
       "      <td>62</td>\n",
       "      <td>45</td>\n",
       "      <td>16.0</td>\n",
       "      <td>1.0</td>\n",
       "      <td>0.00079</td>\n",
       "      <td>0.02637</td>\n",
       "    </tr>\n",
       "  </tbody>\n",
       "</table>\n",
       "</div>"
      ],
      "text/plain": [
       "    Products  Avg_Price_per_unit  Cost_per_unit  Average_Profit_per_unit  \\\n",
       "0  Product 1                  95             92                      2.8   \n",
       "1  Product 2                  37             27                     10.0   \n",
       "2  Product 3                  34             26                      8.5   \n",
       "3  Product 4                  32             30                      2.8   \n",
       "4  Product 5                  62             45                     16.0   \n",
       "\n",
       "   Average_units_sold  Incremental_acquisition  Increase_sale_volume  \n",
       "0                 0.6                  0.00323               0.08906  \n",
       "1                 0.8                  0.00106               0.01991  \n",
       "2                 0.6                  0.00328               0.03778  \n",
       "3                 0.7                  0.00000               0.08562  \n",
       "4                 1.0                  0.00079               0.02637  "
      ]
     },
     "execution_count": 3,
     "metadata": {},
     "output_type": "execute_result"
    }
   ],
   "source": [
    "data.head() # view of data"
   ]
  },
  {
   "cell_type": "markdown",
   "id": "08a6a39c",
   "metadata": {},
   "source": [
    "**Average Price/Unit** : Market price of the product.<br><br>\n",
    "**Cost/Unit**: Current cost of the product.<br><br>\n",
    "**Average Profit/Unit** : Profit for each unit.<br><br>\n",
    "**Average units sold**: Average number of units of product sold to a customer who makes a purchase.<br><br>\n",
    "**Incremental acquisition**: For every 10% decline in unit price, this is the increase in total customer response rate. Note that overall response rate initially is 5% (5000 out of 100000 make a purchase). You are allowed to decrease the price of a product maximum by 10% by market laws.<br><br>\n",
    "**Increase in sale volume** : For every 10% decline in unit price of product, this is the increase in volume. Again, you are allowed to decrease the price of a product maximum by 10% by market laws."
   ]
  },
  {
   "cell_type": "code",
   "execution_count": 4,
   "id": "2aea6741",
   "metadata": {},
   "outputs": [
    {
     "name": "stdout",
     "output_type": "stream",
     "text": [
      "Products 250\n",
      "Avg_Price_per_unit 94\n",
      "Cost_per_unit 84\n",
      "Average_Profit_per_unit 151\n",
      "Average_units_sold 31\n",
      "Incremental_acquisition 128\n",
      "Increase_sale_volume 250\n"
     ]
    }
   ],
   "source": [
    "for i in data.columns:\n",
    "    print(i,len(pd.unique(data[i])))"
   ]
  },
  {
   "cell_type": "code",
   "execution_count": 5,
   "id": "4f5285e4",
   "metadata": {},
   "outputs": [
    {
     "data": {
      "text/plain": [
       "Products                   0\n",
       "Avg_Price_per_unit         0\n",
       "Cost_per_unit              0\n",
       "Average_Profit_per_unit    0\n",
       "Average_units_sold         0\n",
       "Incremental_acquisition    0\n",
       "Increase_sale_volume       0\n",
       "dtype: int64"
      ]
     },
     "execution_count": 5,
     "metadata": {},
     "output_type": "execute_result"
    }
   ],
   "source": [
    "data.isnull().sum()"
   ]
  },
  {
   "cell_type": "code",
   "execution_count": 6,
   "id": "f601d601",
   "metadata": {},
   "outputs": [],
   "source": [
    "data = data.drop(columns=['Products'])"
   ]
  },
  {
   "cell_type": "code",
   "execution_count": 7,
   "id": "d26b505c",
   "metadata": {
    "scrolled": true
   },
   "outputs": [
    {
     "data": {
      "text/plain": [
       "(250, 6)"
      ]
     },
     "execution_count": 7,
     "metadata": {},
     "output_type": "execute_result"
    }
   ],
   "source": [
    "data.shape"
   ]
  },
  {
   "cell_type": "code",
   "execution_count": 8,
   "id": "1a5b26fe",
   "metadata": {
    "scrolled": true
   },
   "outputs": [
    {
     "data": {
      "text/html": [
       "<div>\n",
       "<style scoped>\n",
       "    .dataframe tbody tr th:only-of-type {\n",
       "        vertical-align: middle;\n",
       "    }\n",
       "\n",
       "    .dataframe tbody tr th {\n",
       "        vertical-align: top;\n",
       "    }\n",
       "\n",
       "    .dataframe thead th {\n",
       "        text-align: right;\n",
       "    }\n",
       "</style>\n",
       "<table border=\"1\" class=\"dataframe\">\n",
       "  <thead>\n",
       "    <tr style=\"text-align: right;\">\n",
       "      <th></th>\n",
       "      <th>Avg_Price_per_unit</th>\n",
       "      <th>Cost_per_unit</th>\n",
       "      <th>Average_Profit_per_unit</th>\n",
       "      <th>Average_units_sold</th>\n",
       "      <th>Incremental_acquisition</th>\n",
       "      <th>Increase_sale_volume</th>\n",
       "    </tr>\n",
       "  </thead>\n",
       "  <tbody>\n",
       "    <tr>\n",
       "      <th>0</th>\n",
       "      <td>95</td>\n",
       "      <td>92</td>\n",
       "      <td>2.8</td>\n",
       "      <td>0.6</td>\n",
       "      <td>0.00323</td>\n",
       "      <td>0.08906</td>\n",
       "    </tr>\n",
       "    <tr>\n",
       "      <th>1</th>\n",
       "      <td>37</td>\n",
       "      <td>27</td>\n",
       "      <td>10.0</td>\n",
       "      <td>0.8</td>\n",
       "      <td>0.00106</td>\n",
       "      <td>0.01991</td>\n",
       "    </tr>\n",
       "    <tr>\n",
       "      <th>2</th>\n",
       "      <td>34</td>\n",
       "      <td>26</td>\n",
       "      <td>8.5</td>\n",
       "      <td>0.6</td>\n",
       "      <td>0.00328</td>\n",
       "      <td>0.03778</td>\n",
       "    </tr>\n",
       "    <tr>\n",
       "      <th>3</th>\n",
       "      <td>32</td>\n",
       "      <td>30</td>\n",
       "      <td>2.8</td>\n",
       "      <td>0.7</td>\n",
       "      <td>0.00000</td>\n",
       "      <td>0.08562</td>\n",
       "    </tr>\n",
       "    <tr>\n",
       "      <th>4</th>\n",
       "      <td>62</td>\n",
       "      <td>45</td>\n",
       "      <td>16.0</td>\n",
       "      <td>1.0</td>\n",
       "      <td>0.00079</td>\n",
       "      <td>0.02637</td>\n",
       "    </tr>\n",
       "  </tbody>\n",
       "</table>\n",
       "</div>"
      ],
      "text/plain": [
       "   Avg_Price_per_unit  Cost_per_unit  Average_Profit_per_unit  \\\n",
       "0                  95             92                      2.8   \n",
       "1                  37             27                     10.0   \n",
       "2                  34             26                      8.5   \n",
       "3                  32             30                      2.8   \n",
       "4                  62             45                     16.0   \n",
       "\n",
       "   Average_units_sold  Incremental_acquisition  Increase_sale_volume  \n",
       "0                 0.6                  0.00323               0.08906  \n",
       "1                 0.8                  0.00106               0.01991  \n",
       "2                 0.6                  0.00328               0.03778  \n",
       "3                 0.7                  0.00000               0.08562  \n",
       "4                 1.0                  0.00079               0.02637  "
      ]
     },
     "execution_count": 8,
     "metadata": {},
     "output_type": "execute_result"
    }
   ],
   "source": [
    "data.head()"
   ]
  },
  {
   "cell_type": "code",
   "execution_count": 9,
   "id": "5042457b",
   "metadata": {
    "scrolled": true
   },
   "outputs": [
    {
     "name": "stdout",
     "output_type": "stream",
     "text": [
      "<class 'pandas.core.frame.DataFrame'>\n",
      "RangeIndex: 250 entries, 0 to 249\n",
      "Data columns (total 6 columns):\n",
      " #   Column                   Non-Null Count  Dtype  \n",
      "---  ------                   --------------  -----  \n",
      " 0   Avg_Price_per_unit       250 non-null    int64  \n",
      " 1   Cost_per_unit            250 non-null    int64  \n",
      " 2   Average_Profit_per_unit  250 non-null    float64\n",
      " 3   Average_units_sold       250 non-null    float64\n",
      " 4   Incremental_acquisition  250 non-null    float64\n",
      " 5   Increase_sale_volume     250 non-null    float64\n",
      "dtypes: float64(4), int64(2)\n",
      "memory usage: 11.8 KB\n"
     ]
    }
   ],
   "source": [
    "data.info()"
   ]
  },
  {
   "cell_type": "code",
   "execution_count": 10,
   "id": "f63e7f61",
   "metadata": {},
   "outputs": [
    {
     "data": {
      "text/html": [
       "<div>\n",
       "<style scoped>\n",
       "    .dataframe tbody tr th:only-of-type {\n",
       "        vertical-align: middle;\n",
       "    }\n",
       "\n",
       "    .dataframe tbody tr th {\n",
       "        vertical-align: top;\n",
       "    }\n",
       "\n",
       "    .dataframe thead th {\n",
       "        text-align: right;\n",
       "    }\n",
       "</style>\n",
       "<table border=\"1\" class=\"dataframe\">\n",
       "  <thead>\n",
       "    <tr style=\"text-align: right;\">\n",
       "      <th></th>\n",
       "      <th>Avg_Price_per_unit</th>\n",
       "      <th>Cost_per_unit</th>\n",
       "      <th>Average_Profit_per_unit</th>\n",
       "      <th>Average_units_sold</th>\n",
       "      <th>Incremental_acquisition</th>\n",
       "      <th>Increase_sale_volume</th>\n",
       "    </tr>\n",
       "  </thead>\n",
       "  <tbody>\n",
       "    <tr>\n",
       "      <th>count</th>\n",
       "      <td>250.000000</td>\n",
       "      <td>250.000000</td>\n",
       "      <td>250.000000</td>\n",
       "      <td>250.000000</td>\n",
       "      <td>250.000000</td>\n",
       "      <td>250.000000</td>\n",
       "    </tr>\n",
       "    <tr>\n",
       "      <th>mean</th>\n",
       "      <td>60.620000</td>\n",
       "      <td>51.596000</td>\n",
       "      <td>9.034400</td>\n",
       "      <td>1.500400</td>\n",
       "      <td>0.001366</td>\n",
       "      <td>0.050986</td>\n",
       "    </tr>\n",
       "    <tr>\n",
       "      <th>std</th>\n",
       "      <td>28.318959</td>\n",
       "      <td>24.182223</td>\n",
       "      <td>7.433913</td>\n",
       "      <td>0.839511</td>\n",
       "      <td>0.001579</td>\n",
       "      <td>0.029084</td>\n",
       "    </tr>\n",
       "    <tr>\n",
       "      <th>min</th>\n",
       "      <td>10.000000</td>\n",
       "      <td>9.000000</td>\n",
       "      <td>0.000000</td>\n",
       "      <td>0.100000</td>\n",
       "      <td>0.000000</td>\n",
       "      <td>0.000370</td>\n",
       "    </tr>\n",
       "    <tr>\n",
       "      <th>25%</th>\n",
       "      <td>37.000000</td>\n",
       "      <td>32.000000</td>\n",
       "      <td>3.100000</td>\n",
       "      <td>0.800000</td>\n",
       "      <td>0.000000</td>\n",
       "      <td>0.025528</td>\n",
       "    </tr>\n",
       "    <tr>\n",
       "      <th>50%</th>\n",
       "      <td>57.000000</td>\n",
       "      <td>50.500000</td>\n",
       "      <td>7.150000</td>\n",
       "      <td>1.400000</td>\n",
       "      <td>0.000690</td>\n",
       "      <td>0.051620</td>\n",
       "    </tr>\n",
       "    <tr>\n",
       "      <th>75%</th>\n",
       "      <td>85.750000</td>\n",
       "      <td>71.750000</td>\n",
       "      <td>12.975000</td>\n",
       "      <td>2.200000</td>\n",
       "      <td>0.002560</td>\n",
       "      <td>0.076580</td>\n",
       "    </tr>\n",
       "    <tr>\n",
       "      <th>max</th>\n",
       "      <td>110.000000</td>\n",
       "      <td>105.000000</td>\n",
       "      <td>29.700000</td>\n",
       "      <td>3.100000</td>\n",
       "      <td>0.006150</td>\n",
       "      <td>0.099430</td>\n",
       "    </tr>\n",
       "  </tbody>\n",
       "</table>\n",
       "</div>"
      ],
      "text/plain": [
       "       Avg_Price_per_unit  Cost_per_unit  Average_Profit_per_unit  \\\n",
       "count          250.000000     250.000000               250.000000   \n",
       "mean            60.620000      51.596000                 9.034400   \n",
       "std             28.318959      24.182223                 7.433913   \n",
       "min             10.000000       9.000000                 0.000000   \n",
       "25%             37.000000      32.000000                 3.100000   \n",
       "50%             57.000000      50.500000                 7.150000   \n",
       "75%             85.750000      71.750000                12.975000   \n",
       "max            110.000000     105.000000                29.700000   \n",
       "\n",
       "       Average_units_sold  Incremental_acquisition  Increase_sale_volume  \n",
       "count          250.000000               250.000000            250.000000  \n",
       "mean             1.500400                 0.001366              0.050986  \n",
       "std              0.839511                 0.001579              0.029084  \n",
       "min              0.100000                 0.000000              0.000370  \n",
       "25%              0.800000                 0.000000              0.025528  \n",
       "50%              1.400000                 0.000690              0.051620  \n",
       "75%              2.200000                 0.002560              0.076580  \n",
       "max              3.100000                 0.006150              0.099430  "
      ]
     },
     "execution_count": 10,
     "metadata": {},
     "output_type": "execute_result"
    }
   ],
   "source": [
    "data.describe()"
   ]
  },
  {
   "cell_type": "code",
   "execution_count": 11,
   "id": "849be297",
   "metadata": {},
   "outputs": [],
   "source": [
    "colors = ['#1f77b4', '#ff7f0e', '#2ca02c', '#d62728', '#9467bd', '#8c564b', '#e377c2', '#7f7f7f', '#bcbd22', '#17becf']"
   ]
  },
  {
   "cell_type": "code",
   "execution_count": 12,
   "id": "ca150346",
   "metadata": {},
   "outputs": [
    {
     "data": {
      "image/png": "[encoded data removed]",
      "text/plain": [
       "<Figure size 1008x432 with 1 Axes>"
      ]
     },
     "metadata": {
      "needs_background": "light"
     },
     "output_type": "display_data"
    }
   ],
   "source": [
    "out = pd.cut(data['Avg_Price_per_unit'], bins=[0, 10, 20, 40,60, 80, 100, 120], include_lowest=True)\n",
    "out_norm = out.value_counts(sort=False, normalize=True).mul(100)\n",
    "ax = out_norm.plot.bar(rot=0, color=colors, figsize=(14,6))\n",
    "plt.ylabel(\"frequency\")\n",
    "plt.title('Distribution of unit price')\n",
    "plt.show()"
   ]
  },
  {
   "cell_type": "code",
   "execution_count": 13,
   "id": "6bb1568e",
   "metadata": {},
   "outputs": [],
   "source": [
    "profit_margin=[]\n",
    "for i in range(250):\n",
    "    sp=data['Avg_Price_per_unit'][i]\n",
    "    cp=data['Cost_per_unit'][i]\n",
    "    profit_margin.append((sp-cp)*100/cp)"
   ]
  },
  {
   "cell_type": "code",
   "execution_count": 14,
   "id": "2f620e8e",
   "metadata": {},
   "outputs": [
    {
     "data": {
      "image/png": "[encoded data removed]",
      "text/plain": [
       "<Figure size 1008x432 with 1 Axes>"
      ]
     },
     "metadata": {
      "needs_background": "light"
     },
     "output_type": "display_data"
    }
   ],
   "source": [
    "out = pd.cut(profit_margin, bins=[i for i in range(0,50,5)], include_lowest=True)\n",
    "out_norm = out.value_counts().mul(100)\n",
    "ax = out_norm.plot.bar(rot=0, color=colors, figsize=(14,6))\n",
    "plt.ylabel(\"frequency\")\n",
    "plt.title('Distribution of profit margin')\n",
    "plt.show()"
   ]
  },
  {
   "cell_type": "code",
   "execution_count": 15,
   "id": "09a0d0a2",
   "metadata": {},
   "outputs": [],
   "source": [
    "# maximize total profit \n",
    "\n",
    "# total_profit = demand * profit_on_unit_product \n",
    "\n",
    "def maximize_total_profit(x,cost_price,intercept,slope):\n",
    "    '''\n",
    "    maximize_total_profit accepts the 'x' variable which changes by scipy model,'cost_price' is cost of a product\n",
    "    'itercept' and 'slope' are values from demand equation. \n",
    "    it returns the total profit for a product.\n",
    "    '''\n",
    "    total_profit= -1*((slope* x + intercept)*(x-cost_price))\n",
    "    return total_profit"
   ]
  },
  {
   "cell_type": "code",
   "execution_count": 16,
   "id": "72667379",
   "metadata": {},
   "outputs": [],
   "source": [
    "# converting to numpy array from pandas series\n",
    "unit_price = np.array(data['Avg_Price_per_unit'],dtype=np.float64)\n",
    "unit_cost = np.array(data['Cost_per_unit'],dtype=np.float64)\n",
    "units_sold = np.array(data['Average_units_sold'],dtype=np.float64)\n",
    "incr_sales = np.array(data['Increase_sale_volume'],dtype=np.float64)"
   ]
  },
  {
   "cell_type": "markdown",
   "id": "13b1909a",
   "metadata": {},
   "source": [
    "**ESTIMATE DEMAND MODEL:** <br>\n",
    "•\tA way to predict demand at specific prices<br>\n",
    "•\tInverse relationship between price in demand<br>\n",
    "•\tDemand Equation(y=slope(b) * price(x) + intercept)<br>\n",
    "&emsp;    •\ty : demand<br>\n",
    "&emsp;    •\tb : impact of price on demand<br>\n",
    "&emsp;    •\tx : any price point to sell the offering<br>\n",
    "&emsp;    •\tintercept : starting  point of sales<br>"
   ]
  },
  {
   "attachments": {
    "price%20Elasticity.jpeg": {
     "image/jpeg": "[encoded data removed]"
    }
   },
   "cell_type": "markdown",
   "id": "a74890e6",
   "metadata": {},
   "source": [
    "![price%20Elasticity.jpeg](attachment:price%20Elasticity.jpeg)"
   ]
  },
  {
   "cell_type": "code",
   "execution_count": 17,
   "id": "e6417994",
   "metadata": {},
   "outputs": [],
   "source": [
    "def demand_function(prices,quantity):\n",
    "    '''\n",
    "    return the price_elasticity sales_point(intercept) by consturcting the ordinary least square model\n",
    "    '''\n",
    "    data_item={'Price':prices,'Quantity':quantity}\n",
    "    df = pd.DataFrame(data=data_item) # converting  dictionary to  DataFrame\n",
    "    ols_model = ols(\"Quantity~Price\", data=df).fit() # fitting ols model\n",
    "    price_elasticity = ols_model.params[1] # slope from ols model\n",
    "    sales_point = ols_model.params[0] # intercept from ols model\n",
    "    return (price_elasticity,sales_point)"
   ]
  },
  {
   "attachments": {},
   "cell_type": "markdown",
   "id": "2d12e544",
   "metadata": {},
   "source": [
    "<h1>Price vs Quantity</h1>\n",
    "<br><br>\n",
    "<p style=\"display:inline;text-align:left\"><img src=\"demand_curve.webp\" alt=\"Sunflower\" style=\"width: 300px;float: right; margin-right: 15px;\">An increase in quantity demanded is caused by a decrease in the price of the product (and vice versa). A demand curve illustrates the quantity demanded and any price offered on the market. A change in quantity demanded is represented as a movement along a demand curve. The proportion that quantity demanded changes relative to a change in price is known as the elasticity of demand and is related to the slope of the demand curve.</p>\n",
    "\n"
   ]
  },
  {
   "cell_type": "code",
   "execution_count": 18,
   "id": "68ab56b9",
   "metadata": {},
   "outputs": [],
   "source": [
    "def price_optimizer():\n",
    "    '''\n",
    "        calculating optimal price for the products\n",
    "    '''\n",
    "    total_initial_profit=0\n",
    "    total_optimized_profit=0\n",
    "    optimal_prices=[]\n",
    "    number_of_products = data.shape[0]\n",
    "    for i in range(number_of_products):\n",
    "        p1=unit_price[i]\n",
    "        q1 = units_sold[i]\n",
    "        p2=90*p1/100\n",
    "        q2=(100+incr_sales[i])*q1/100\n",
    "        prices=[p1,p2]\n",
    "        qunatity=[q1,q2]\n",
    "        slope,intercept = demand_function(prices,qunatity) # receiving slope and intercept from ols model \n",
    "        \n",
    "        selling_price=unit_price[i]\n",
    "        constraint=[(float(max(unit_cost[i],unit_price[i]*0.9))\n",
    "                     ,unit_price[i]*1.2)] # setting constraints for the selling price (-10%,20%)\n",
    "        \n",
    "        maximize_result = minimize(maximize_total_profit,selling_price\n",
    "                                   ,args=(unit_cost[i],intercept,slope*100)\n",
    "                                   ,method='SLSQP',bounds=constraint) # receiving the maximized value for selling price\n",
    "        total_initial_profit+=(selling_price-unit_cost[i])*units_sold[i]\n",
    "        optimal_prices.append(maximize_result.x[0]) # optimal price list\n",
    "        total_optimized_profit+=(maximize_result.x[0]-unit_cost[i])*units_sold[i] # total optimal price\n",
    "        \n",
    "    return optimal_prices,total_initial_profit,total_optimized_profit"
   ]
  },
  {
   "cell_type": "code",
   "execution_count": 19,
   "id": "d5d08252",
   "metadata": {},
   "outputs": [],
   "source": [
    "optimal_prices, total_initial_profit, total_optimized_profit =  price_optimizer()"
   ]
  },
  {
   "cell_type": "code",
   "execution_count": 20,
   "id": "b6be9586",
   "metadata": {},
   "outputs": [
    {
     "data": {
      "text/html": [
       "<div>\n",
       "<style scoped>\n",
       "    .dataframe tbody tr th:only-of-type {\n",
       "        vertical-align: middle;\n",
       "    }\n",
       "\n",
       "    .dataframe tbody tr th {\n",
       "        vertical-align: top;\n",
       "    }\n",
       "\n",
       "    .dataframe thead th {\n",
       "        text-align: right;\n",
       "    }\n",
       "</style>\n",
       "<table border=\"1\" class=\"dataframe\">\n",
       "  <thead>\n",
       "    <tr style=\"text-align: right;\">\n",
       "      <th></th>\n",
       "      <th>selling_price</th>\n",
       "      <th>optimal_selling_price</th>\n",
       "    </tr>\n",
       "  </thead>\n",
       "  <tbody>\n",
       "    <tr>\n",
       "      <th>0</th>\n",
       "      <td>95.0</td>\n",
       "      <td>99.809833</td>\n",
       "    </tr>\n",
       "    <tr>\n",
       "      <th>1</th>\n",
       "      <td>37.0</td>\n",
       "      <td>44.400000</td>\n",
       "    </tr>\n",
       "    <tr>\n",
       "      <th>2</th>\n",
       "      <td>34.0</td>\n",
       "      <td>40.800000</td>\n",
       "    </tr>\n",
       "    <tr>\n",
       "      <th>3</th>\n",
       "      <td>32.0</td>\n",
       "      <td>33.847223</td>\n",
       "    </tr>\n",
       "    <tr>\n",
       "      <th>4</th>\n",
       "      <td>62.0</td>\n",
       "      <td>74.400000</td>\n",
       "    </tr>\n",
       "  </tbody>\n",
       "</table>\n",
       "</div>"
      ],
      "text/plain": [
       "   selling_price  optimal_selling_price\n",
       "0           95.0              99.809833\n",
       "1           37.0              44.400000\n",
       "2           34.0              40.800000\n",
       "3           32.0              33.847223\n",
       "4           62.0              74.400000"
      ]
     },
     "execution_count": 20,
     "metadata": {},
     "output_type": "execute_result"
    }
   ],
   "source": [
    "d={'selling_price':unit_price,'optimal_selling_price':optimal_prices }\n",
    "result=pd.DataFrame(data=d)\n",
    "result.head()"
   ]
  },
  {
   "cell_type": "code",
   "execution_count": 21,
   "id": "594f28b8",
   "metadata": {},
   "outputs": [
    {
     "name": "stdout",
     "output_type": "stream",
     "text": [
      "profit before optimization : 3285.8999999999996\n",
      "profit after optimization : 6600.85076980578\n"
     ]
    }
   ],
   "source": [
    "print(\"profit before optimization :\",total_initial_profit)\n",
    "print(\"profit after optimization :\",total_optimized_profit)"
   ]
  }
 ],
 "metadata": {
  "kernelspec": {
   "display_name": "Python 3 (ipykernel)",
   "language": "python",
   "name": "python3"
  },
  "language_info": {
   "codemirror_mode": {
    "name": "ipython",
    "version": 3
   },
   "file_extension": ".py",
   "mimetype": "text/x-python",
   "name": "python",
   "nbconvert_exporter": "python",
   "pygments_lexer": "ipython3",
   "version": "3.9.1"
  }
 },
 "nbformat": 4,
 "nbformat_minor": 5
}
